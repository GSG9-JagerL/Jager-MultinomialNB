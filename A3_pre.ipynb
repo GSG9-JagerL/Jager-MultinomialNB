{
 "cells": [
  {
   "cell_type": "markdown",
   "metadata": {},
   "source": [
    "# Initialization"
   ]
  },
  {
   "cell_type": "code",
   "execution_count": 1,
   "metadata": {},
   "outputs": [],
   "source": [
    "import pandas as pd\n",
    "\n",
    "from sklearn.model_selection import train_test_split\n",
    "from sklearn.naive_bayes import MultinomialNB\n",
    "from sklearn.feature_extraction.text import CountVectorizer\n",
    "from sklearn.metrics import classification_report\n",
    "\n",
    "import string"
   ]
  },
  {
   "cell_type": "markdown",
   "metadata": {},
   "source": [
    "# Prepare Data\n",
    "## Load CSV"
   ]
  },
  {
   "cell_type": "code",
   "execution_count": 2,
   "metadata": {},
   "outputs": [
    {
     "data": {
      "text/html": "<div>\n<style scoped>\n    .dataframe tbody tr th:only-of-type {\n        vertical-align: middle;\n    }\n\n    .dataframe tbody tr th {\n        vertical-align: top;\n    }\n\n    .dataframe thead th {\n        text-align: right;\n    }\n</style>\n<table border=\"1\" class=\"dataframe\">\n  <thead>\n    <tr style=\"text-align: right;\">\n      <th></th>\n      <th>id</th>\n      <th>class</th>\n      <th>abstract</th>\n    </tr>\n  </thead>\n  <tbody>\n    <tr>\n      <th>0</th>\n      <td>1</td>\n      <td>B</td>\n      <td>the 4 202 353 bp genome of the alkaliphilic ba...</td>\n    </tr>\n    <tr>\n      <th>1</th>\n      <td>2</td>\n      <td>A</td>\n      <td>the complete 1751377-bp sequence of the genome...</td>\n    </tr>\n    <tr>\n      <th>2</th>\n      <td>3</td>\n      <td>E</td>\n      <td>in 1992 we started assembling an ordered libra...</td>\n    </tr>\n    <tr>\n      <th>3</th>\n      <td>4</td>\n      <td>E</td>\n      <td>the aim of this study is to measure human mito...</td>\n    </tr>\n    <tr>\n      <th>4</th>\n      <td>5</td>\n      <td>B</td>\n      <td>the amino acid sequence of the spirulina maxim...</td>\n    </tr>\n    <tr>\n      <th>5</th>\n      <td>6</td>\n      <td>B</td>\n      <td>the genus xanthomonas is a diverse and economi...</td>\n    </tr>\n    <tr>\n      <th>6</th>\n      <td>7</td>\n      <td>B</td>\n      <td>the complete nucleotide sequence of the genome...</td>\n    </tr>\n    <tr>\n      <th>7</th>\n      <td>8</td>\n      <td>B</td>\n      <td>the complete genome sequence of caulobacter cr...</td>\n    </tr>\n    <tr>\n      <th>8</th>\n      <td>9</td>\n      <td>V</td>\n      <td>the complete dna sequence of the a2 strain of ...</td>\n    </tr>\n    <tr>\n      <th>9</th>\n      <td>10</td>\n      <td>B</td>\n      <td>the complete genomic sequence of corynebacteri...</td>\n    </tr>\n  </tbody>\n</table>\n</div>",
      "text/plain": "   id class                                           abstract\n0   1     B  the 4 202 353 bp genome of the alkaliphilic ba...\n1   2     A  the complete 1751377-bp sequence of the genome...\n2   3     E  in 1992 we started assembling an ordered libra...\n3   4     E  the aim of this study is to measure human mito...\n4   5     B  the amino acid sequence of the spirulina maxim...\n5   6     B  the genus xanthomonas is a diverse and economi...\n6   7     B  the complete nucleotide sequence of the genome...\n7   8     B  the complete genome sequence of caulobacter cr...\n8   9     V  the complete dna sequence of the a2 strain of ...\n9  10     B  the complete genomic sequence of corynebacteri..."
     },
     "execution_count": 2,
     "metadata": {},
     "output_type": "execute_result"
    }
   ],
   "source": [
    "df_raw = pd.read_csv('trg.csv')\n",
    "df_raw.head(10)"
   ]
  },
  {
   "cell_type": "code",
   "execution_count": 3,
   "metadata": {},
   "outputs": [
    {
     "data": {
      "text/html": "<div>\n<style scoped>\n    .dataframe tbody tr th:only-of-type {\n        vertical-align: middle;\n    }\n\n    .dataframe tbody tr th {\n        vertical-align: top;\n    }\n\n    .dataframe thead th {\n        text-align: right;\n    }\n</style>\n<table border=\"1\" class=\"dataframe\">\n  <thead>\n    <tr style=\"text-align: right;\">\n      <th></th>\n      <th>id</th>\n      <th>class</th>\n      <th>abstract</th>\n    </tr>\n  </thead>\n  <tbody>\n    <tr>\n      <th>count</th>\n      <td>4000.000000</td>\n      <td>4000</td>\n      <td>4000</td>\n    </tr>\n    <tr>\n      <th>unique</th>\n      <td>NaN</td>\n      <td>4</td>\n      <td>2686</td>\n    </tr>\n    <tr>\n      <th>top</th>\n      <td>NaN</td>\n      <td>E</td>\n      <td>the national institutes of health mammalian ge...</td>\n    </tr>\n    <tr>\n      <th>freq</th>\n      <td>NaN</td>\n      <td>2144</td>\n      <td>42</td>\n    </tr>\n    <tr>\n      <th>mean</th>\n      <td>2000.500000</td>\n      <td>NaN</td>\n      <td>NaN</td>\n    </tr>\n    <tr>\n      <th>std</th>\n      <td>1154.844867</td>\n      <td>NaN</td>\n      <td>NaN</td>\n    </tr>\n    <tr>\n      <th>min</th>\n      <td>1.000000</td>\n      <td>NaN</td>\n      <td>NaN</td>\n    </tr>\n    <tr>\n      <th>25%</th>\n      <td>1000.750000</td>\n      <td>NaN</td>\n      <td>NaN</td>\n    </tr>\n    <tr>\n      <th>50%</th>\n      <td>2000.500000</td>\n      <td>NaN</td>\n      <td>NaN</td>\n    </tr>\n    <tr>\n      <th>75%</th>\n      <td>3000.250000</td>\n      <td>NaN</td>\n      <td>NaN</td>\n    </tr>\n    <tr>\n      <th>max</th>\n      <td>4000.000000</td>\n      <td>NaN</td>\n      <td>NaN</td>\n    </tr>\n  </tbody>\n</table>\n</div>",
      "text/plain": "                 id class                                           abstract\ncount   4000.000000  4000                                               4000\nunique          NaN     4                                               2686\ntop             NaN     E  the national institutes of health mammalian ge...\nfreq            NaN  2144                                                 42\nmean    2000.500000   NaN                                                NaN\nstd     1154.844867   NaN                                                NaN\nmin        1.000000   NaN                                                NaN\n25%     1000.750000   NaN                                                NaN\n50%     2000.500000   NaN                                                NaN\n75%     3000.250000   NaN                                                NaN\nmax     4000.000000   NaN                                                NaN"
     },
     "execution_count": 3,
     "metadata": {},
     "output_type": "execute_result"
    }
   ],
   "source": [
    "df_raw.describe(include = 'all')   #Describe"
   ]
  },
  {
   "cell_type": "code",
   "execution_count": 4,
   "metadata": {},
   "outputs": [
    {
     "data": {
      "text/html": "<div>\n<style scoped>\n    .dataframe tbody tr th:only-of-type {\n        vertical-align: middle;\n    }\n\n    .dataframe tbody tr th {\n        vertical-align: top;\n    }\n\n    .dataframe thead tr th {\n        text-align: left;\n    }\n\n    .dataframe thead tr:last-of-type th {\n        text-align: right;\n    }\n</style>\n<table border=\"1\" class=\"dataframe\">\n  <thead>\n    <tr>\n      <th></th>\n      <th colspan=\"4\" halign=\"left\">abstract</th>\n    </tr>\n    <tr>\n      <th></th>\n      <th>count</th>\n      <th>unique</th>\n      <th>top</th>\n      <th>freq</th>\n    </tr>\n    <tr>\n      <th>class</th>\n      <th></th>\n      <th></th>\n      <th></th>\n      <th></th>\n    </tr>\n  </thead>\n  <tbody>\n    <tr>\n      <th>A</th>\n      <td>128</td>\n      <td>45</td>\n      <td>the complete 1751377-bp sequence of the genome...</td>\n      <td>17</td>\n    </tr>\n    <tr>\n      <th>B</th>\n      <td>1602</td>\n      <td>726</td>\n      <td>an approach for genome analysis based on seque...</td>\n      <td>30</td>\n    </tr>\n    <tr>\n      <th>E</th>\n      <td>2144</td>\n      <td>1800</td>\n      <td>the national institutes of health mammalian ge...</td>\n      <td>42</td>\n    </tr>\n    <tr>\n      <th>V</th>\n      <td>126</td>\n      <td>116</td>\n      <td>the complete 172282 base pairs nucleotide sequ...</td>\n      <td>4</td>\n    </tr>\n  </tbody>\n</table>\n</div>",
      "text/plain": "      abstract                                                               \n         count unique                                                top freq\nclass                                                                        \nA          128     45  the complete 1751377-bp sequence of the genome...   17\nB         1602    726  an approach for genome analysis based on seque...   30\nE         2144   1800  the national institutes of health mammalian ge...   42\nV          126    116  the complete 172282 base pairs nucleotide sequ...    4"
     },
     "execution_count": 4,
     "metadata": {},
     "output_type": "execute_result"
    }
   ],
   "source": [
    "df_raw.groupby('class').describe(include = ['O'])   # Describe object type group by class"
   ]
  },
  {
   "cell_type": "code",
   "execution_count": 5,
   "metadata": {},
   "outputs": [
    {
     "name": "stdout",
     "output_type": "stream",
     "text": [
      "['B' 'A' 'E' 'V']\n"
     ]
    }
   ],
   "source": [
    "print(f\"{df_raw['class'].unique()}\")    #Show unique values"
   ]
  },
  {
   "cell_type": "markdown",
   "metadata": {},
   "source": [
    "## Preprocessing text"
   ]
  },
  {
   "cell_type": "code",
   "execution_count": 6,
   "metadata": {},
   "outputs": [],
   "source": [
    "def text_process(arg_string):\n",
    "    \"\"\"\n",
    "    Remove punctuation\n",
    "    Return a list of words with lower cases.\n",
    "    \"\"\"\n",
    "    return [word for word in ''.join([char for char in arg_string if char not in string.punctuation]).split() if word.lower()]\n",
    "    pass\n"
   ]
  },
  {
   "cell_type": "code",
   "execution_count": 7,
   "metadata": {},
   "outputs": [
    {
     "data": {
      "text/plain": "0    [the, 4, 202, 353, bp, genome, of, the, alkali...\n1    [the, complete, 1751377bp, sequence, of, the, ...\n2    [in, 1992, we, started, assembling, an, ordere...\n3    [the, aim, of, this, study, is, to, measure, h...\n4    [the, amino, acid, sequence, of, the, spirulin...\n5    [the, genus, xanthomonas, is, a, diverse, and,...\n6    [the, complete, nucleotide, sequence, of, the,...\n7    [the, complete, genome, sequence, of, caulobac...\n8    [the, complete, dna, sequence, of, the, a2, st...\n9    [the, complete, genomic, sequence, of, coryneb...\nName: abstract, dtype: object"
     },
     "execution_count": 7,
     "metadata": {},
     "output_type": "execute_result"
    }
   ],
   "source": [
    "df_raw['abstract'].head(10).apply(text_process)"
   ]
  },
  {
   "cell_type": "markdown",
   "metadata": {},
   "source": [
    "## Vectorization \n",
    "use **sklearn.feature.text.CountVectorizer**"
   ]
  },
  {
   "cell_type": "code",
   "execution_count": 8,
   "metadata": {},
   "outputs": [],
   "source": [
    "bag_of_word_transformer = CountVectorizer(analyzer=text_process).fit(df_raw['abstract'])"
   ]
  },
  {
   "cell_type": "code",
   "execution_count": 9,
   "metadata": {},
   "outputs": [
    {
     "data": {
      "text/plain": "31424"
     },
     "execution_count": 9,
     "metadata": {},
     "output_type": "execute_result"
    }
   ],
   "source": [
    "len(bag_of_word_transformer.vocabulary_)"
   ]
  },
  {
   "cell_type": "markdown",
   "metadata": {},
   "source": [
    "We have got the transformer, try it on a sample"
   ]
  },
  {
   "cell_type": "code",
   "execution_count": 10,
   "metadata": {},
   "outputs": [
    {
     "data": {
      "text/plain": "'the 4 202 353 bp genome of the alkaliphilic bacterium bacillus halodurans c-125 contains 4066 predicted protein coding sequences cdss 2141 527 of which have functional assignments 1182 29 of which are conserved cdss with unknown function and 743 18 3 of which have no match to any protein database among the total cdss 88 match sequences of proteins found only in bacillus subtilis and 667 are widely conserved in comparison with the proteins of various organisms including bsubtilis the b halodurans genome contains 112 transposase genes indicating that transposases have played an important evolutionary role in horizontal gene transfer and also in internal genetic rearrangement in the genome strain c-125 lacks some of the necessary genes for competence such as coms srfa and rapc supporting the fact that competence has not been demonstrated experimentally in c-125 there is no paralog of tupa encoding teichuronopeptide which contributes to alkaliphily in the c-125 genome and an ortholog of tupa cannot be found in the bsubtilis genome out of 11 sigma factors which belong to the extracytoplasmic function family 10 are unique to b halodurans suggesting that they may have a role in the special mechanism of adaptation to an alkaline environment'"
     },
     "execution_count": 10,
     "metadata": {},
     "output_type": "execute_result"
    }
   ],
   "source": [
    "sample = df_raw['abstract'][0]\n",
    "sample"
   ]
  },
  {
   "cell_type": "code",
   "execution_count": 11,
   "metadata": {},
   "outputs": [],
   "source": [
    "sample_vector = bag_of_word_transformer.transform([sample])"
   ]
  },
  {
   "cell_type": "code",
   "execution_count": 12,
   "metadata": {},
   "outputs": [
    {
     "name": "stdout",
     "output_type": "stream",
     "text": [
      "  (0, 103)\t1\n",
      "  (0, 228)\t1\n",
      "  (0, 261)\t1\n",
      "  (0, 316)\t1\n",
      "  (0, 962)\t1\n",
      "  (0, 1223)\t1\n",
      "  (0, 1299)\t1\n",
      "  (0, 1776)\t1\n",
      "  (0, 1907)\t1\n",
      "  (0, 2167)\t1\n",
      "  (0, 2476)\t1\n",
      "  (0, 2513)\t1\n",
      "  (0, 3002)\t1\n",
      "  (0, 3444)\t1\n",
      "  (0, 3618)\t1\n",
      "  (0, 3890)\t1\n",
      "  (0, 4125)\t1\n",
      "  (0, 4645)\t1\n",
      "  (0, 5137)\t1\n",
      "  (0, 5139)\t1\n",
      "  (0, 5140)\t1\n",
      "  (0, 5346)\t1\n",
      "  (0, 5466)\t1\n",
      "  (0, 5543)\t3\n",
      "  (0, 5595)\t5\n",
      "  :\t:\n",
      "  (0, 27737)\t1\n",
      "  (0, 27822)\t1\n",
      "  (0, 28034)\t1\n",
      "  (0, 28222)\t1\n",
      "  (0, 28439)\t1\n",
      "  (0, 28479)\t1\n",
      "  (0, 28501)\t1\n",
      "  (0, 28607)\t1\n",
      "  (0, 28966)\t1\n",
      "  (0, 29139)\t3\n",
      "  (0, 29141)\t12\n",
      "  (0, 29155)\t1\n",
      "  (0, 29204)\t1\n",
      "  (0, 29413)\t5\n",
      "  (0, 29479)\t1\n",
      "  (0, 29598)\t1\n",
      "  (0, 29676)\t1\n",
      "  (0, 29677)\t1\n",
      "  (0, 29994)\t2\n",
      "  (0, 30295)\t1\n",
      "  (0, 30307)\t1\n",
      "  (0, 30564)\t1\n",
      "  (0, 30996)\t5\n",
      "  (0, 31025)\t1\n",
      "  (0, 31055)\t2\n"
     ]
    }
   ],
   "source": [
    "print(sample_vector)"
   ]
  },
  {
   "cell_type": "code",
   "execution_count": 13,
   "metadata": {},
   "outputs": [
    {
     "data": {
      "text/plain": "'the'"
     },
     "execution_count": 13,
     "metadata": {},
     "output_type": "execute_result"
    }
   ],
   "source": [
    "bag_of_word_transformer.get_feature_names()[29141]"
   ]
  },
  {
   "cell_type": "code",
   "execution_count": 14,
   "metadata": {},
   "outputs": [
    {
     "data": {
      "text/plain": "(1, 31424)"
     },
     "execution_count": 14,
     "metadata": {},
     "output_type": "execute_result"
    }
   ],
   "source": [
    "sample_vector.shape"
   ]
  },
  {
   "cell_type": "markdown",
   "metadata": {},
   "source": [
    "Transform everything"
   ]
  },
  {
   "cell_type": "code",
   "execution_count": 15,
   "metadata": {},
   "outputs": [],
   "source": [
    "vectorized_abstracts = bag_of_word_transformer.transform(df_raw['abstract'])"
   ]
  },
  {
   "cell_type": "code",
   "execution_count": 16,
   "metadata": {},
   "outputs": [
    {
     "name": "stdout",
     "output_type": "stream",
     "text": [
      "Shape: (4000, 31424)\n",
      "# Non-Zero Occurence: 433933\n"
     ]
    }
   ],
   "source": [
    "print(f'Shape: {vectorized_abstracts.shape}')\n",
    "print(f'# Non-Zero Occurence: {vectorized_abstracts.nnz}')"
   ]
  },
  {
   "cell_type": "markdown",
   "metadata": {},
   "source": [
    "## Training"
   ]
  },
  {
   "cell_type": "code",
   "execution_count": 17,
   "metadata": {},
   "outputs": [],
   "source": [
    "X_train, X_val, y_train, y_val = train_test_split(vectorized_abstracts, df_raw['class'], test_size = 0.2)"
   ]
  },
  {
   "cell_type": "code",
   "execution_count": 18,
   "metadata": {},
   "outputs": [],
   "source": [
    "mnb_model = MultinomialNB().fit(X_train, y_train)"
   ]
  },
  {
   "cell_type": "code",
   "execution_count": 22,
   "metadata": {},
   "outputs": [],
   "source": [
    "predictions = mnb_model.predict(X_val)"
   ]
  },
  {
   "cell_type": "code",
   "execution_count": 20,
   "metadata": {},
   "outputs": [
    {
     "name": "stdout",
     "output_type": "stream",
     "text": [
      "              precision    recall  f1-score   support\n",
      "\n",
      "           A       1.00      0.67      0.80        24\n",
      "           B       0.96      0.97      0.96       317\n",
      "           E       0.92      0.99      0.95       433\n",
      "           V       1.00      0.08      0.14        26\n",
      "\n",
      "    accuracy                           0.94       800\n",
      "   macro avg       0.97      0.67      0.71       800\n",
      "weighted avg       0.94      0.94      0.93       800\n",
      "\n"
     ]
    }
   ],
   "source": [
    "print(classification_report(y_val, predictions)) "
   ]
  },
  {
   "cell_type": "markdown",
   "metadata": {},
   "source": [
    "## Test on test set"
   ]
  },
  {
   "cell_type": "code",
   "execution_count": 25,
   "metadata": {},
   "outputs": [],
   "source": [
    "df_test = pd.read_csv('tst.csv')"
   ]
  },
  {
   "cell_type": "code",
   "execution_count": 26,
   "metadata": {},
   "outputs": [
    {
     "data": {
      "text/html": "<div>\n<style scoped>\n    .dataframe tbody tr th:only-of-type {\n        vertical-align: middle;\n    }\n\n    .dataframe tbody tr th {\n        vertical-align: top;\n    }\n\n    .dataframe thead th {\n        text-align: right;\n    }\n</style>\n<table border=\"1\" class=\"dataframe\">\n  <thead>\n    <tr style=\"text-align: right;\">\n      <th></th>\n      <th>id</th>\n      <th>abstract</th>\n    </tr>\n  </thead>\n  <tbody>\n    <tr>\n      <th>0</th>\n      <td>1</td>\n      <td>in a previous work all three components of com...</td>\n    </tr>\n    <tr>\n      <th>1</th>\n      <td>2</td>\n      <td>we compared morphology of two geographically c...</td>\n    </tr>\n    <tr>\n      <th>2</th>\n      <td>3</td>\n      <td>factor xiii mr 320000 is a blood coagulation f...</td>\n    </tr>\n    <tr>\n      <th>3</th>\n      <td>4</td>\n      <td>we report the characterisation of a human gene...</td>\n    </tr>\n    <tr>\n      <th>4</th>\n      <td>5</td>\n      <td>fat tissue plays a critical role in the regula...</td>\n    </tr>\n    <tr>\n      <th>...</th>\n      <td>...</td>\n      <td>...</td>\n    </tr>\n    <tr>\n      <th>995</th>\n      <td>996</td>\n      <td>the molecular chaperonins such as groel are no...</td>\n    </tr>\n    <tr>\n      <th>996</th>\n      <td>997</td>\n      <td>the cdna sequence of the flavoprotein subunit ...</td>\n    </tr>\n    <tr>\n      <th>997</th>\n      <td>998</td>\n      <td>the higher plant arabidopsis thaliana arabidop...</td>\n    </tr>\n    <tr>\n      <th>998</th>\n      <td>999</td>\n      <td>the hyperthermophilic euryarchaeon pyrococcus ...</td>\n    </tr>\n    <tr>\n      <th>999</th>\n      <td>1000</td>\n      <td>the complete mitochondrial dna mtdna molecule ...</td>\n    </tr>\n  </tbody>\n</table>\n<p>1000 rows × 2 columns</p>\n</div>",
      "text/plain": "       id                                           abstract\n0       1  in a previous work all three components of com...\n1       2  we compared morphology of two geographically c...\n2       3  factor xiii mr 320000 is a blood coagulation f...\n3       4  we report the characterisation of a human gene...\n4       5  fat tissue plays a critical role in the regula...\n..    ...                                                ...\n995   996  the molecular chaperonins such as groel are no...\n996   997  the cdna sequence of the flavoprotein subunit ...\n997   998  the higher plant arabidopsis thaliana arabidop...\n998   999  the hyperthermophilic euryarchaeon pyrococcus ...\n999  1000  the complete mitochondrial dna mtdna molecule ...\n\n[1000 rows x 2 columns]"
     },
     "execution_count": 26,
     "metadata": {},
     "output_type": "execute_result"
    }
   ],
   "source": [
    "df_test"
   ]
  },
  {
   "cell_type": "code",
   "execution_count": 27,
   "metadata": {},
   "outputs": [],
   "source": [
    "x_test_vectorized = bag_of_word_transformer.transform(df_test['abstract'])"
   ]
  },
  {
   "cell_type": "code",
   "execution_count": 30,
   "metadata": {},
   "outputs": [],
   "source": [
    "predictions_on_test = mnb_model.predict(x_test_vectorized)"
   ]
  },
  {
   "cell_type": "code",
   "execution_count": 43,
   "metadata": {},
   "outputs": [],
   "source": [
    "pd.DataFrame({\n",
    "    'id':range(1,1001),\n",
    "    'class':predictions_on_test\n",
    "}).to_csv('submission.csv', index=False)"
   ]
  },
  {
   "cell_type": "code",
   "execution_count": 44,
   "metadata": {},
   "outputs": [
    {
     "name": "stdout",
     "output_type": "stream",
     "text": [
      "Warning: Your Kaggle API key is readable by other users on this system! To fix this, you can run 'chmod 600 /Users/jager/.kaggle/kaggle.json'\n",
      "100%|██████████████████████████████████████| 5.76k/5.76k [00:04<00:00, 1.41kB/s]\n",
      "Successfully submitted to Naive Bayes Abstract Classification"
     ]
    }
   ],
   "source": [
    "!kaggle competitions submit -c naivebayes-21 -f submission.csv -m \"blyat\""
   ]
  }
 ],
 "metadata": {
  "kernelspec": {
   "display_name": "Python 3.7.9 64-bit ('ml_tf': conda)",
   "name": "python379jvsc74a57bd0b0d3e0d29dd4172fabedb1ae768d8aa5b558f61bef3f3e1df57542bd41f22585"
  },
  "language_info": {
   "codemirror_mode": {
    "name": "ipython",
    "version": 3
   },
   "file_extension": ".py",
   "mimetype": "text/x-python",
   "name": "python",
   "nbconvert_exporter": "python",
   "pygments_lexer": "ipython3",
   "version": "3.7.9"
  },
  "orig_nbformat": 2
 },
 "nbformat": 4,
 "nbformat_minor": 2
}