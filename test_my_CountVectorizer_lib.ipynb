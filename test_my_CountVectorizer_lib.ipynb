{
 "metadata": {
  "language_info": {
   "codemirror_mode": {
    "name": "ipython",
    "version": 3
   },
   "file_extension": ".py",
   "mimetype": "text/x-python",
   "name": "python",
   "nbconvert_exporter": "python",
   "pygments_lexer": "ipython3",
   "version": "3.7.9"
  },
  "orig_nbformat": 2,
  "kernelspec": {
   "name": "python379jvsc74a57bd0b0d3e0d29dd4172fabedb1ae768d8aa5b558f61bef3f3e1df57542bd41f22585",
   "display_name": "Python 3.7.9 64-bit ('ml_tf': conda)"
  }
 },
 "nbformat": 4,
 "nbformat_minor": 2,
 "cells": [
  {
   "cell_type": "code",
   "execution_count": 1,
   "metadata": {},
   "outputs": [],
   "source": [
    "import numpy as np"
   ]
  },
  {
   "cell_type": "code",
   "execution_count": 2,
   "metadata": {},
   "outputs": [],
   "source": [
    "stop_words = np.genfromtxt('stop_words_english.txt', dtype=str, encoding='utf-8')"
   ]
  },
  {
   "cell_type": "code",
   "execution_count": 3,
   "metadata": {},
   "outputs": [
    {
     "output_type": "execute_result",
     "data": {
      "text/plain": [
       "array(['able', 'about', 'above', 'abroad', 'according'], dtype='<U15')"
      ]
     },
     "metadata": {},
     "execution_count": 3
    }
   ],
   "source": [
    "stop_words[:5]"
   ]
  },
  {
   "cell_type": "code",
   "execution_count": 4,
   "metadata": {},
   "outputs": [],
   "source": [
    "    def text_process(abstract:str):\n",
    "        return [word.lower() for word in ''.join([char for char in abstract if char != '\"']).split() if word not in stop_words]\n"
   ]
  },
  {
   "cell_type": "code",
   "execution_count": 5,
   "metadata": {},
   "outputs": [
    {
     "output_type": "stream",
     "name": "stdout",
     "text": [
      "Hello I am Jager Hello World noob Star Hello Hello There\n"
     ]
    },
    {
     "output_type": "execute_result",
     "data": {
      "text/plain": [
       "['hello', 'jager', 'hello', 'world', 'noob', 'star', 'hello', 'hello', 'there']"
      ]
     },
     "metadata": {},
     "execution_count": 5
    }
   ],
   "source": [
    "strs = [\"Hello I am Jager\", \"Hello World\", \"noob Star\", \"Hello Hello There\", ]\n",
    "all_in_1 = ' '.join(strs)\n",
    "print(all_in_1)\n",
    "all_words = text_process(all_in_1)\n",
    "all_words"
   ]
  },
  {
   "cell_type": "code",
   "execution_count": 6,
   "metadata": {},
   "outputs": [
    {
     "output_type": "execute_result",
     "data": {
      "text/plain": [
       "4"
      ]
     },
     "metadata": {},
     "execution_count": 6
    }
   ],
   "source": [
    "aword = 'hello'\n",
    "all_words.count(aword)"
   ]
  },
  {
   "cell_type": "code",
   "execution_count": 7,
   "metadata": {},
   "outputs": [],
   "source": [
    "from CountVectorizer import CountVectorizer"
   ]
  },
  {
   "cell_type": "code",
   "execution_count": 8,
   "metadata": {},
   "outputs": [],
   "source": [
    "vectorizer = CountVectorizer(stop_words=stop_words)"
   ]
  },
  {
   "cell_type": "code",
   "execution_count": 9,
   "metadata": {},
   "outputs": [],
   "source": [
    "vectorizer.fit(strs)"
   ]
  },
  {
   "cell_type": "code",
   "execution_count": 10,
   "metadata": {},
   "outputs": [
    {
     "output_type": "execute_result",
     "data": {
      "text/plain": [
       "array([['hello', 4],\n",
       "       ['world', 1],\n",
       "       ['there', 1],\n",
       "       ['star', 1],\n",
       "       ['noob', 1],\n",
       "       ['jager', 1]], dtype=object)"
      ]
     },
     "metadata": {},
     "execution_count": 10
    }
   ],
   "source": [
    "vectorizer.vocabularies"
   ]
  },
  {
   "cell_type": "code",
   "execution_count": 11,
   "metadata": {},
   "outputs": [
    {
     "output_type": "execute_result",
     "data": {
      "text/plain": [
       "array([[1, 0, 0, 0, 0, 1],\n",
       "       [1, 1, 0, 0, 0, 0],\n",
       "       [0, 0, 0, 1, 1, 0],\n",
       "       [2, 0, 1, 0, 0, 0]], dtype=object)"
      ]
     },
     "metadata": {},
     "execution_count": 11
    }
   ],
   "source": [
    "vectorizer.transform(strs)"
   ]
  },
  {
   "cell_type": "code",
   "execution_count": 12,
   "metadata": {},
   "outputs": [],
   "source": [
    "from DataFrame import DataFrame\n",
    "df = DataFrame()"
   ]
  },
  {
   "cell_type": "code",
   "execution_count": 13,
   "metadata": {},
   "outputs": [],
   "source": [
    "df.read_csv('trg.csv')"
   ]
  },
  {
   "cell_type": "code",
   "execution_count": 14,
   "metadata": {},
   "outputs": [],
   "source": [
    "abstracts = df.get_col(2)"
   ]
  },
  {
   "cell_type": "code",
   "execution_count": 15,
   "metadata": {},
   "outputs": [],
   "source": [
    "vectorizer1 = CountVectorizer(stop_words=stop_words,max_features=1000)"
   ]
  },
  {
   "cell_type": "code",
   "execution_count": 16,
   "metadata": {},
   "outputs": [],
   "source": [
    "abstracts_all_in_1 = ' '.join(abstracts)\n",
    "words_abstracts = vectorizer1.text_process(abstracts_all_in_1)"
   ]
  },
  {
   "cell_type": "code",
   "execution_count": 17,
   "metadata": {},
   "outputs": [
    {
     "output_type": "execute_result",
     "data": {
      "text/plain": [
       "99"
      ]
     },
     "metadata": {},
     "execution_count": 17
    }
   ],
   "source": [
    "words_abstracts.count('affinity')"
   ]
  },
  {
   "cell_type": "code",
   "execution_count": 18,
   "metadata": {},
   "outputs": [
    {
     "output_type": "execute_result",
     "data": {
      "text/plain": [
       "array([['genes', 6396],\n",
       "       ['sequence', 5183],\n",
       "       ['gene', 5097],\n",
       "       ...,\n",
       "       ['viruses', 64],\n",
       "       ['untranslated', 63],\n",
       "       ['global', 63]], dtype=object)"
      ]
     },
     "metadata": {},
     "execution_count": 18
    }
   ],
   "source": [
    "vectorizer1.fit(abstracts)\n",
    "vectorizer1.vocabularies"
   ]
  },
  {
   "cell_type": "code",
   "execution_count": 19,
   "metadata": {},
   "outputs": [],
   "source": [
    "vectorized_abstracts100=vectorizer1.transform(abstracts[:100])"
   ]
  },
  {
   "cell_type": "code",
   "execution_count": 20,
   "metadata": {},
   "outputs": [
    {
     "output_type": "execute_result",
     "data": {
      "text/plain": [
       "array([[2, 0, 1, ..., 0, 0, 0],\n",
       "       [4, 1, 7, ..., 0, 0, 0],\n",
       "       [6, 3, 1, ..., 0, 0, 0],\n",
       "       ...,\n",
       "       [2, 1, 0, ..., 0, 0, 0],\n",
       "       [1, 1, 1, ..., 0, 0, 0],\n",
       "       [4, 4, 0, ..., 0, 0, 0]], dtype=object)"
      ]
     },
     "metadata": {},
     "execution_count": 20
    }
   ],
   "source": [
    "vectorized_abstracts100"
   ]
  },
  {
   "cell_type": "code",
   "execution_count": 21,
   "metadata": {},
   "outputs": [],
   "source": [
    "unique = vectorizer1.vocabularies[:10,0]\n",
    "counts = vectorizer1.vocabularies[:10,1].astype(np.int)"
   ]
  },
  {
   "cell_type": "code",
   "execution_count": 22,
   "metadata": {},
   "outputs": [
    {
     "output_type": "execute_result",
     "data": {
      "text/plain": [
       "array(['genes', 'sequence', 'gene', 'genome', 'protein', 'amino',\n",
       "       'proteins', 'sequences', 'acid', 'human'], dtype=object)"
      ]
     },
     "metadata": {},
     "execution_count": 22
    }
   ],
   "source": [
    "unique"
   ]
  },
  {
   "cell_type": "code",
   "execution_count": 23,
   "metadata": {},
   "outputs": [
    {
     "output_type": "execute_result",
     "data": {
      "text/plain": [
       "array([6396, 5183, 5097, 3728, 3493, 2629, 2518, 2429, 2127, 2049])"
      ]
     },
     "metadata": {},
     "execution_count": 23
    }
   ],
   "source": [
    "counts"
   ]
  },
  {
   "cell_type": "code",
   "execution_count": 24,
   "metadata": {},
   "outputs": [
    {
     "output_type": "execute_result",
     "data": {
      "text/plain": [
       "array([['genes', 'sequence', 'gene', 'genome', 'protein', 'amino',\n",
       "        'proteins', 'sequences', 'acid', 'human'],\n",
       "       [6396, 5183, 5097, 3728, 3493, 2629, 2518, 2429, 2127, 2049]],\n",
       "      dtype=object)"
      ]
     },
     "metadata": {},
     "execution_count": 24
    }
   ],
   "source": [
    "np.array([unique, counts],dtype = object)"
   ]
  },
  {
   "cell_type": "code",
   "execution_count": 25,
   "metadata": {},
   "outputs": [
    {
     "output_type": "execute_result",
     "data": {
      "text/plain": [
       "array([['genes', 6396],\n",
       "       ['sequence', 5183],\n",
       "       ['gene', 5097],\n",
       "       ['genome', 3728],\n",
       "       ['protein', 3493],\n",
       "       ['amino', 2629],\n",
       "       ['proteins', 2518],\n",
       "       ['sequences', 2429],\n",
       "       ['acid', 2127],\n",
       "       ['human', 2049]], dtype=object)"
      ]
     },
     "metadata": {},
     "execution_count": 25
    }
   ],
   "source": [
    "np.transpose(np.array([unique, counts],dtype = object))"
   ]
  },
  {
   "cell_type": "code",
   "execution_count": null,
   "metadata": {},
   "outputs": [],
   "source": []
  }
 ]
}