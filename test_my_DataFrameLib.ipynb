{
 "metadata": {
  "language_info": {
   "codemirror_mode": {
    "name": "ipython",
    "version": 3
   },
   "file_extension": ".py",
   "mimetype": "text/x-python",
   "name": "python",
   "nbconvert_exporter": "python",
   "pygments_lexer": "ipython3",
   "version": "3.7.9"
  },
  "orig_nbformat": 2,
  "kernelspec": {
   "name": "python379jvsc74a57bd0b0d3e0d29dd4172fabedb1ae768d8aa5b558f61bef3f3e1df57542bd41f22585",
   "display_name": "Python 3.7.9 64-bit ('ml_tf': conda)"
  }
 },
 "nbformat": 4,
 "nbformat_minor": 2,
 "cells": [
  {
   "cell_type": "code",
   "execution_count": 1,
   "metadata": {},
   "outputs": [],
   "source": [
    "from DataFrame import DataFrame\n",
    "df = DataFrame()"
   ]
  },
  {
   "cell_type": "code",
   "execution_count": 2,
   "metadata": {},
   "outputs": [],
   "source": [
    "df.read_csv('trg.csv')"
   ]
  },
  {
   "cell_type": "code",
   "execution_count": 3,
   "metadata": {},
   "outputs": [
    {
     "output_type": "execute_result",
     "data": {
      "text/plain": [
       "array([['1', 'B',\n",
       "        '\"the 4 202 353 bp genome of the alkaliphilic bacterium bacillus halodurans c-125 contains 4066 predicted protein coding sequences cdss 2141 527 of which have functional assignments 1182 29 of which are conserved cdss with unknown function and 743 18 3 of which have no match to any protein database among the total cdss 88 match sequences of proteins found only in bacillus subtilis and 667 are widely conserved in comparison with the proteins of various organisms including bsubtilis the b halodurans genome contains 112 transposase genes indicating that transposases have played an important evolutionary role in horizontal gene transfer and also in internal genetic rearrangement in the genome strain c-125 lacks some of the necessary genes for competence such as coms srfa and rapc supporting the fact that competence has not been demonstrated experimentally in c-125 there is no paralog of tupa encoding teichuronopeptide which contributes to alkaliphily in the c-125 genome and an ortholog of tupa cannot be found in the bsubtilis genome out of 11 sigma factors which belong to the extracytoplasmic function family 10 are unique to b halodurans suggesting that they may have a role in the special mechanism of adaptation to an alkaline environment\"'],\n",
       "       ['2', 'A',\n",
       "        '\"the complete 1751377-bp sequence of the genome of the thermophilic archaeon methanobacterium thermoautotrophicum deltah has been determined by a whole-genome shotgun sequencing approach a total of 1855 open reading frames orfs have been identified that appear to encode polypeptides 844 46 of which have been assigned putative functions based on their similarities to database sequences with assigned functions a total of 514 28 of the orf-encoded polypeptides are related to sequences with unknown functions and 496 27 have little or no homology to sequences in public databases comparisons with eucarya- bacteria- and archaea-specific databases reveal that 1013 of the putative gene products 54 are most similar to polypeptide sequences described previously for other organisms in the domain archaea comparisons with the methanococcus jannaschii genome data underline the extensive divergence that has occurred between these two methanogens only 352 19 of m thermoautotrophicum orfs encode sequences that are 50 identical to m jannaschii polypeptides and there is little conservation in the relative locations of orthologous genes when the m thermoautotrophicum orfs are compared to sequences from only the eucaryal and bacterial domains 786 42 are more similar to bacterial sequences and 241 13 are more similar to eucaryal sequences the bacterial domain-like gene products include the majority of those predicted to be involved in cofactor and small molecule biosyntheses intermediary metabolism transport nitrogen fixation regulatory functions and interactions with the environment most proteins predicted to be involved in dna metabolism transcription and translation are more similar to eucaryal sequences gene structure and organization have features that are typical of the bacteria including genes that encode polypeptides closely related to eucaryal proteins there are 24 polypeptides that could form two-component sensor kinase-response regulator systems and homologs of the bacterial hsp70-response proteins dnak and dnaj which are notably absent in m jannaschii dna replication initiation and chromosome packaging in m thermoautotrophicum are predicted to have eucaryal features based on the presence of two cdc6 homologs and three histones however the presence of an ftsz gene indicates a bacterial type of cell division initiation the dna polymerases include an x-family repair type and an unusual archaeal b type formed by two separate polypeptides the dna-dependent rna polymerase rnap subunits a\\' a b\\' b and h are encoded in a typical archaeal rnap operon although a second a\\' subunit-encoding gene is present at a remote location there are two rrna operons and 39 trna genes are dispersed around the genome although most of these occur in clusters three of the trna genes have introns including the trnapro ggg gene which contains a second intron at an unprecedented location there is no selenocysteinyl-trna gene nor evidence for classically organized is elements prophages or plasmids the genome contains one intein and two extended repeats 36 and 86 kb that are members of a family with 18 representatives in the m jannaschii genome\"'],\n",
       "       ['3', 'E',\n",
       "        '\"in 1992 we started assembling an ordered library of cosmid clones from chromosome xiv of the yeast saccharomyces cerevisiae at that time only 49 genes were known to be located on this chromosome and we estimated that 80 to 90 of its genes were yet to be discovered in 1993 a team of 20 european laboratories began the systematic sequence analysis of chromosome xiv the completed and intensively checked final sequence of 784328 base pairs was released in april 1996 substantial parts had been published before or had previously been made available on request the sequence contained 419 known or presumptive protein-coding genes including two pseudogenes and three retrotransposons 14 trna genes and three small nuclear rna genes for 116 30 protein-coding sequences one or more structural homologues were identified elsewhere in the yeast genome half of them belong to duplicated groups of 6-14 loosely linked genes in most cases with conserved gene order and orientation relaxed interchromosomal synteny we have considered the possible evolutionary origins of this unexpected feature of yeast genome organization\"'],\n",
       "       ['4', 'E',\n",
       "        '\"the aim of this study is to measure human mitochondrial sequence variability in the relatively slowly evolving mitochondrial gene cytochrome oxidase subunit ii coii and to estimate when the human common ancestral mitochondrial type existed new coii gene sequences were determined for five humans homo sapiens including some of the most mitochondrially divergent humans known for two pygmy chimpanzees pan paniscus and for a common chimpanzee p troglodytes coii sequences were analyzed with those from another relatively slowly evolving mitochondrial region nd4-5 from class 1 third codon position sequence data a relative divergence date for the human mitochondrial ancestor is estimated as 127 th of the human-chimpanzee divergence time if it is assumed that humans and chimpanzees diverged 6 mya this places a human mitochondrial ancestor at 222000 years significantly different from 1 myr the presumed time of an h erectus emergence from africa the mean coalescent time estimated from all 1580 sites of combined mitochondrial data when a 6-mya human-chimpanzee divergence is assumed is 298000 years with 95 confidence interval of 129000-536000 years neither estimate is compatible with a 1-myr-old human mitochondrial ancestor the mitochondrial dna sequence data from coii and nd4-5 regions therefore do not support this multiregional hypothesis for the emergence of modern humans\"'],\n",
       "       ['5', 'B',\n",
       "        '\"the amino acid sequence of the spirulina maxima ferredoxin was shown to be h2n-ala-thr-tyr-lys-val-thr-leu-ile-ser-glu-ala-glu-gly-ile-asn-glu-thr-ile-asp-cys-asp-asp-asp-thr-tyr-ile-leu-asp-ala-ala-glu-glu-ala-gly-leu-asp-leu-pro-tyr-ser-cys-arg-ala-gly-ala-cys-ser-thr-cys-ala-gly-lys-ile-thr-ser-gly-ser-ile-asp-gln-ser-asp-gln-ser-phe-leu-asp-asp-asp-gln-ile-gln-ala-gly-tyr-val-leu-thr-cys-val-ala-tyr-pro-thr-ser-asp-cys-thr-ile-gln-thr-his-gln-glu-glu-gly-leu-tyr-cooh the s maxima ferredoxin is the first procaryote ferredoxin of the plant-algal type to be reported a modification of the automated sequence determination of a peptide which was extracted by the organic solvents used to remove excess reagents and the amino acid thiazoline was utilized to complete the sequence of a 36 residue tryptic peptide\"']],\n",
       "      dtype='<U3157')"
      ]
     },
     "metadata": {},
     "execution_count": 3
    }
   ],
   "source": [
    "df.head()"
   ]
  },
  {
   "cell_type": "code",
   "execution_count": 4,
   "metadata": {},
   "outputs": [
    {
     "output_type": "execute_result",
     "data": {
      "text/plain": [
       "array(['1', 'B',\n",
       "       '\"the 4 202 353 bp genome of the alkaliphilic bacterium bacillus halodurans c-125 contains 4066 predicted protein coding sequences cdss 2141 527 of which have functional assignments 1182 29 of which are conserved cdss with unknown function and 743 18 3 of which have no match to any protein database among the total cdss 88 match sequences of proteins found only in bacillus subtilis and 667 are widely conserved in comparison with the proteins of various organisms including bsubtilis the b halodurans genome contains 112 transposase genes indicating that transposases have played an important evolutionary role in horizontal gene transfer and also in internal genetic rearrangement in the genome strain c-125 lacks some of the necessary genes for competence such as coms srfa and rapc supporting the fact that competence has not been demonstrated experimentally in c-125 there is no paralog of tupa encoding teichuronopeptide which contributes to alkaliphily in the c-125 genome and an ortholog of tupa cannot be found in the bsubtilis genome out of 11 sigma factors which belong to the extracytoplasmic function family 10 are unique to b halodurans suggesting that they may have a role in the special mechanism of adaptation to an alkaline environment\"'],\n",
       "      dtype='<U3157')"
      ]
     },
     "metadata": {},
     "execution_count": 4
    }
   ],
   "source": [
    "df.get_row(0)"
   ]
  },
  {
   "cell_type": "code",
   "execution_count": 5,
   "metadata": {},
   "outputs": [
    {
     "output_type": "execute_result",
     "data": {
      "text/plain": [
       "array([['B',\n",
       "        '\"the 4 202 353 bp genome of the alkaliphilic bacterium bacillus halodurans c-125 contains 4066 predicted protein coding sequences cdss 2141 527 of which have functional assignments 1182 29 of which are conserved cdss with unknown function and 743 18 3 of which have no match to any protein database among the total cdss 88 match sequences of proteins found only in bacillus subtilis and 667 are widely conserved in comparison with the proteins of various organisms including bsubtilis the b halodurans genome contains 112 transposase genes indicating that transposases have played an important evolutionary role in horizontal gene transfer and also in internal genetic rearrangement in the genome strain c-125 lacks some of the necessary genes for competence such as coms srfa and rapc supporting the fact that competence has not been demonstrated experimentally in c-125 there is no paralog of tupa encoding teichuronopeptide which contributes to alkaliphily in the c-125 genome and an ortholog of tupa cannot be found in the bsubtilis genome out of 11 sigma factors which belong to the extracytoplasmic function family 10 are unique to b halodurans suggesting that they may have a role in the special mechanism of adaptation to an alkaline environment\"'],\n",
       "       ['A',\n",
       "        '\"the complete 1751377-bp sequence of the genome of the thermophilic archaeon methanobacterium thermoautotrophicum deltah has been determined by a whole-genome shotgun sequencing approach a total of 1855 open reading frames orfs have been identified that appear to encode polypeptides 844 46 of which have been assigned putative functions based on their similarities to database sequences with assigned functions a total of 514 28 of the orf-encoded polypeptides are related to sequences with unknown functions and 496 27 have little or no homology to sequences in public databases comparisons with eucarya- bacteria- and archaea-specific databases reveal that 1013 of the putative gene products 54 are most similar to polypeptide sequences described previously for other organisms in the domain archaea comparisons with the methanococcus jannaschii genome data underline the extensive divergence that has occurred between these two methanogens only 352 19 of m thermoautotrophicum orfs encode sequences that are 50 identical to m jannaschii polypeptides and there is little conservation in the relative locations of orthologous genes when the m thermoautotrophicum orfs are compared to sequences from only the eucaryal and bacterial domains 786 42 are more similar to bacterial sequences and 241 13 are more similar to eucaryal sequences the bacterial domain-like gene products include the majority of those predicted to be involved in cofactor and small molecule biosyntheses intermediary metabolism transport nitrogen fixation regulatory functions and interactions with the environment most proteins predicted to be involved in dna metabolism transcription and translation are more similar to eucaryal sequences gene structure and organization have features that are typical of the bacteria including genes that encode polypeptides closely related to eucaryal proteins there are 24 polypeptides that could form two-component sensor kinase-response regulator systems and homologs of the bacterial hsp70-response proteins dnak and dnaj which are notably absent in m jannaschii dna replication initiation and chromosome packaging in m thermoautotrophicum are predicted to have eucaryal features based on the presence of two cdc6 homologs and three histones however the presence of an ftsz gene indicates a bacterial type of cell division initiation the dna polymerases include an x-family repair type and an unusual archaeal b type formed by two separate polypeptides the dna-dependent rna polymerase rnap subunits a\\' a b\\' b and h are encoded in a typical archaeal rnap operon although a second a\\' subunit-encoding gene is present at a remote location there are two rrna operons and 39 trna genes are dispersed around the genome although most of these occur in clusters three of the trna genes have introns including the trnapro ggg gene which contains a second intron at an unprecedented location there is no selenocysteinyl-trna gene nor evidence for classically organized is elements prophages or plasmids the genome contains one intein and two extended repeats 36 and 86 kb that are members of a family with 18 representatives in the m jannaschii genome\"'],\n",
       "       ['E',\n",
       "        '\"the aim of this study is to measure human mitochondrial sequence variability in the relatively slowly evolving mitochondrial gene cytochrome oxidase subunit ii coii and to estimate when the human common ancestral mitochondrial type existed new coii gene sequences were determined for five humans homo sapiens including some of the most mitochondrially divergent humans known for two pygmy chimpanzees pan paniscus and for a common chimpanzee p troglodytes coii sequences were analyzed with those from another relatively slowly evolving mitochondrial region nd4-5 from class 1 third codon position sequence data a relative divergence date for the human mitochondrial ancestor is estimated as 127 th of the human-chimpanzee divergence time if it is assumed that humans and chimpanzees diverged 6 mya this places a human mitochondrial ancestor at 222000 years significantly different from 1 myr the presumed time of an h erectus emergence from africa the mean coalescent time estimated from all 1580 sites of combined mitochondrial data when a 6-mya human-chimpanzee divergence is assumed is 298000 years with 95 confidence interval of 129000-536000 years neither estimate is compatible with a 1-myr-old human mitochondrial ancestor the mitochondrial dna sequence data from coii and nd4-5 regions therefore do not support this multiregional hypothesis for the emergence of modern humans\"']],\n",
       "      dtype='<U3157')"
      ]
     },
     "metadata": {},
     "execution_count": 5
    }
   ],
   "source": [
    "df.get_sub_df([0,1,3],[1,2])"
   ]
  },
  {
   "cell_type": "code",
   "execution_count": 6,
   "metadata": {},
   "outputs": [
    {
     "output_type": "stream",
     "name": "stderr",
     "text": [
      "/Users/jager/Dropbox/My Mac (Ys-MacBook-Pro.local)/Documents/Academy/UoA_21s1/CS 361/A3/A3 Repo/DataFrame.py:87: FutureWarning: Using a non-tuple sequence for multidimensional indexing is deprecated; use `arr[tuple(seq)]` instead of `arr[seq]`. In the future this will be interpreted as an array index, `arr[np.array(seq)]`, which will result either in an error or a different result.\n  return self.data[rows]\n"
     ]
    }
   ],
   "source": [
    "train, test = df.train_test_split(test_size=0.3)"
   ]
  },
  {
   "cell_type": "code",
   "execution_count": 7,
   "metadata": {},
   "outputs": [
    {
     "output_type": "execute_result",
     "data": {
      "text/plain": [
       "array([['3311', 'E',\n",
       "        '\"we have sequenced and annotated the genome of fission yeast schizosaccharomyces pombe which contains the smallest number of protein-coding genes yet recorded for a eukaryote 4824 the centromeres are between 35 and 110 kilobases kb and contain related repeats including a highly conserved 18-kb element regions upstream of genes are longer than in budding yeast saccharomyces cerevisiae possibly reflecting more-extended control regions some 43 of the genes contain introns of which there are 4730 fifty genes have significant similarity with human disease genes half of these are cancer related we identify highly conserved genes important for eukaryotic cell organization including those required for the cytoskeleton compartmentation cell-cycle control proteolysis protein phosphorylation and rna splicing these genes may have originated with the appearance of eukaryotic life few similarly conserved genes that are important for multicellular organization were identified suggesting that the transition from prokaryotes to eukaryotes required more new genes than did the transition from unicellular to multicellular organization\"'],\n",
       "       ['1017', 'B',\n",
       "        '\"staphylococcus epidermidis strains are diverse in their pathogenicity some are invasive and cause serious nosocomial infections whereas others are non-pathogenic commensal organisms to analyse the implications of different virulence factors in staphylococcus epidermidis infections the complete genome of staphylococcus epidermidis strain atcc 12228 a non-biofilm forming non-infection associated strain used for detection of residual antibiotics in food products was sequenced this strain showed low virulence by mouse and rat experimental infections the genome consists of a single 2499 279 bp chromosome and six plasmids the chromosomal g  c content is 321 and 2419 protein coding sequences cds are predicted among which 230 are putative novel genes compared to the virulence factors in staphylococcus aureus aside from delta-haemolysin and beta-haemolysin other toxin genes were not found in contrast the majority of adhesin genes are intact in atcc 12228 most strikingly the ica operon coding for the enzymes synthesizing interbacterial cellular polysaccharide is missing in atcc 12228 and rearrangements of adjacent genes are shown no mec genes is256 is257 were found in atcc 12228 it is suggested that the absence of the ica operon is a genetic marker in commensal staphylococcus epidermidis strains which are less likely to become invasive\"'],\n",
       "       ['1826', 'B',\n",
       "        '\"the most abundant carbon source transported into legume root nodules is photosynthetically produced sucrose yet the importance of its metabolism by rhizobia in planta is not yet known to identify genes involved in sucrose uptake and hydrolysis we screened a sinorhizobium meliloti genomic library and discovered a segment of s meliloti dna which allows ralstonia eutropha to grow on the alpha-glucosides sucrose maltose and trehalose tn5 mutagenesis localized the required genes to a 68-kb region containing five open reading frames which were named agl for alpha-glucoside utilization four of these agle aglf aglg and aglk appear to encode a periplasmic-binding-protein-dependent sugar transport system and one agla appears to encode an alpha-glucosidase with homology to family 13 of glycosyl hydrolases cosmid-borne agl genes permit uptake of radiolabeled sucrose into r eutropha cells analysis of the properties of agl mutants suggests that s meliloti possesses at least one additional alpha-glucosidase as well as a lower-affinity transport system for alpha-glucosides it is possible that the fix phenotype of agl mutants on alfalfa is due to these additional functions loci found by dna sequencing to be adjacent to aglefgak include a probable regulatory gene aglr zwf and edd which encode the first two enzymes of the entner-doudoroff pathway pgl which shows homology to a gene encoding a putative phosphogluconolactonase and a novel rhizobium-specific repeat element\"'],\n",
       "       ['1341', 'E',\n",
       "        '\"we have identified 52 novel human cadherin-like genes organized into three closely linked clusters comparison of the genomic dna sequences with those of representative cdnas reveals a striking genomic organization similar to that of immunoglobulin and t cell receptor gene clusters the n-terminal extracellular and transmembrane domains of each cadherin protein are encoded by a distinct and unusually large exon these exons are organized in a tandem array by contrast the c-terminal cytoplasmic domain of each protein is identical and is encoded by three small exons located downstream from the cluster of n-terminal exons this unusual organization has interesting implications regarding the molecular code required to establish complex networks of neuronal connections in the brain and the mechanisms of cell-specific cadherin-like gene expression\"'],\n",
       "       ['3975', 'B',\n",
       "        '\"the eut operon of salmonella typhimurium encodes proteins involved in the cobalamin-dependent degradation of ethanolamine previous genetic analysis revealed six eut genes that are needed for aerobic use of ethanolamine one eutr encodes a positive regulator which mediates induction of the operon by vitamin b12 plus ethanolamine the dna sequence of the eut operon included 17 genes suggesting a more complex pathway than that revealed genetically we have correlated an open reading frame in the sequence with each of the previously identified genes nonpolar insertion and deletion mutations made with the tn10-derived transposable element t-pop showed that at least 10 of the 11 previously undetected eut genes have no eut phenotype under the conditions tested of the dispensable eut genes five encode apparent homologues of proteins that serve in other organisms as shell proteins of the carboxysome this bacterial organelle found in photosynthetic and sulfur-oxidizing bacteria may contribute to co2 fixation by concentrating co2 and excluding oxygen the presence of these homologues in the eut operon of salmonella suggests that co2 fixation may be a feature of ethanolamine catabolism in salmonella\"']],\n",
       "      dtype='<U3157')"
      ]
     },
     "metadata": {},
     "execution_count": 7
    }
   ],
   "source": [
    "train.head(\n",
    ")"
   ]
  },
  {
   "cell_type": "code",
   "execution_count": 8,
   "metadata": {},
   "outputs": [
    {
     "output_type": "execute_result",
     "data": {
      "text/plain": [
       "array([['519', 'B',\n",
       "        '\"the nucleotide sequences of cloned genes coding for the elongation factor tu of seven eubacteria have been determined these genes were from anacystis nidulans bacillus subtilis bacteroides fragilis deinonema spec pseudomonas cepacia shewanella putrefaciens and streptococcus oralis the primary structures of the genes were compared to the available sequences of prokaryotic elongation factors tu and eukaryotic elongation factors 1 alpha a conservation profile was determined for homologous amino acid residues sites of known or putative functions are usually located at highly conserved positions or within highly conserved sequence stretches the aligned 24 amino acid sequences were used as basis for a phylogenetic analysis the phylogenetic tree corroborates the kingdom as well as phylum concept deduced from 16s rrna data\"'],\n",
       "       ['2384', 'B',\n",
       "        '\"streptomyces coelicolor is a representative of the group of soil-dwelling filamentous bacteria responsible for producing most natural antibiotics used in human and veterinary medicine here we report the 8667507 base pair linear chromosome of this organism containing the largest number of genes so far discovered in a bacterium the 7825 predicted genes include more than 20 clusters coding for known or predicted secondary metabolites the genome contains an unprecedented proportion of regulatory genes predominantly those likely to be involved in responses to external stimuli and stresses and many duplicated gene sets that may represent \\'tissue-specific\\' isoforms operating in different phases of colonial development a unique situation for a bacterium an ancient synteny was revealed between the central \\'core\\' of the chromosome and the whole chromosome of pathogens mycobacterium tuberculosis and corynebacterium diphtheriae the genome sequence will greatly increase our understanding of microbial life in the soil as well as aiding the generation of new drug candidates by genetic engineering\"'],\n",
       "       ['1373', 'E',\n",
       "        '\"members of the steroidthyroid hormone receptor superfamily are involved in the control of cell identity and of pattern formation during embryonic development chicken ovalbumin upstream promoter-transcription factors coup-tfs can act as regulators of various steroidthyroid hormone receptor pathways to begin to study the role of coup-tfs during embryogenesis we cloned a chicken coup-tf ccoup-tf ii which is highly homologous to human coup-tf ii northern analysis revealed high levels of ccoup-tf ii transcripts during organogenesis nuclear extracts from whole embryos and from embryonic spinal cords were used in electrophoretic mobility shift assays these assays showed that coup-tf protein is present in these tissues and is capable of binding to a coup element a direct repeat of aggtca with one base pair spacing analysis of ccoup-tf expression by in situ hybridization revealed high levels of ccoup-tf ii mrna in the developing spinal motor neurons since the ventral properties of the spinal cord including the development of motor neurons is in part established by inductive signals from the notochord we transplanted an additional notochord next to the dorsal region of the neural tube in order to induce ectopic motor neurons we observed that an ectopic notochord induced ccoup-tf ii gene expression in the dorsal spinal cord in a region coextensive with ectopic domains of sc1 and islet-1 two previously identified motor neuron markers collectively our studies raise the possibility that ccoup-tf ii is involved in motor neuron development\"'],\n",
       "       ['2965', 'E',\n",
       "        '\"hela dna polymerase epsilon pol epsilon possibly involved in both dna replication and dna repair consists of a catalytic subunit of 261 kda and a tightly bound peptide with a relative molecular mass of 55 kda the cdna of the 261-kda polypeptide has been independently cloned sequenced and then overexpressed in insect cells to give a soluble but catalytically unstable protein suggesting that the small subunit of hela pol epsilon might be important for stability hela pol epsilon has been isolated by immunoaffinity purification to obtain sequence information which enabled the cloning of a full-length human cdna encoding the small subunit the clone encoded nine proteolytic peptides obtained from the subunit the 59434-da predicated polypeptide has 26 identity and 44 homology to the yeast pol epsilon 80-kda subunit dpb2 using fluorescence in situ hybridization the human pol epsilon p59 locus dpe2 was assigned to chromosome 14q13-q21\"'],\n",
       "       ['1862', 'E',\n",
       "        '\"we have previously described the isolation of several genes expressed exclusively in the nervous system of adult xenopus laevis and activated in the embryo shortly after neural induction the sequence of one of these cdnas 24-15 identifies the corresponding protein as an isotype of the beta subunit of nak-atpase atp phosphohydrolase nak-transporting ec 36137 this form is distinct from the previously described beta 1 subunit of xenopus and the protein sequence comparison suggests that it is not the frog homolog of the mammalian beta 2 subunit therefore we refer to the 24-15 protein as the beta 3 subunit of nak-atpase of xenopus antisera directed against beta 3-subunit fusion protein detected a protein in adult brain extracts with the size and properties expected for a nak-atpase beta subunit in xenopus the beta 1 and beta 3 subunits are expressed as maternal mrnas at similar levels during embryogenesis rapid accumulation of beta 3 mrna begins at stage 14 early neurula and the rapid accumulation of beta 1 mrna begins at stage 2324 in situ hybridization of antisense rna probes to tadpole brain sections indicates that beta 3 subunit is expressed throughout the developing brain we suggest that beta 3 is a major nak-atpase beta subunit present during early nervous system development in the frog\"']],\n",
       "      dtype='<U3157')"
      ]
     },
     "metadata": {},
     "execution_count": 8
    }
   ],
   "source": [
    "test.head()"
   ]
  },
  {
   "cell_type": "code",
   "execution_count": 9,
   "metadata": {},
   "outputs": [
    {
     "output_type": "execute_result",
     "data": {
      "text/plain": [
       "(2800, 3)"
      ]
     },
     "metadata": {},
     "execution_count": 9
    }
   ],
   "source": [
    "train.shape()"
   ]
  },
  {
   "cell_type": "code",
   "execution_count": 10,
   "metadata": {},
   "outputs": [
    {
     "output_type": "execute_result",
     "data": {
      "text/plain": [
       "(1200, 3)"
      ]
     },
     "metadata": {},
     "execution_count": 10
    }
   ],
   "source": [
    "test.shape()"
   ]
  },
  {
   "cell_type": "code",
   "execution_count": null,
   "metadata": {},
   "outputs": [],
   "source": []
  }
 ]
}